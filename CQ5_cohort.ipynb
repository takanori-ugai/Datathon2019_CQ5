{
 "cells": [
  {
   "cell_type": "code",
   "execution_count": 1,
   "metadata": {},
   "outputs": [],
   "source": [
    "%defaultDatasource jdbc:postgresql://aquamarin.inttech.flab.fujitsu.co.jp/mimic?user=ugai&password=Love2Honami"
   ]
  },
  {
   "cell_type": "markdown",
   "metadata": {},
   "source": [
    "# コホートテーブルの作成　(my_cohort)\n",
    "\n",
    "-17歳より大きい\n",
    "-48時間以上滞在\n",
    "-出血がない\n",
    "-透析していない (procedures_icd から取っているので、請求書ベース)\n",
    "-輸血していない (procedures_icd から取っているので、請求書ベース)\n",
    "-手術していない (procedures_icd から取っているので、請求書ベース)"
   ]
  },
  {
   "cell_type": "code",
   "execution_count": 2,
   "metadata": {},
   "outputs": [],
   "source": [
    "set search_path to mimiciii ;\n",
    "DROP TABLE IF EXISTS  my_cohort ;\n",
    "CREATE TABLE my_cohort AS\n",
    "WITH co0 AS -- 最初の入院の最初のICUのID\n",
    "(\n",
    "select MIN(icustays.intime) as intime, subject_id\n",
    "from icustays\n",
    "GROUP BY (subject_id)\n",
    "), co AS \n",
    "(\n",
    "select icustays.*,patients.gender, EXTRACT('year' from age(icustays.intime,patients.dob)) as age\n",
    "from icustays, co0, patients\n",
    "where icustays.intime = co0.intime\n",
    "AND icustays.subject_id = co0.subject_id\n",
    "AND icustays.subject_id = patients.subject_id\n",
    "),\n",
    "cohort AS (\n",
    "select co.*, \n",
    "  CASE WHEN co.age > 17 AND co.age < 100 THEN TRUE\n",
    "           ELSE FALSE\n",
    "      END as d_age,\n",
    "    CASE WHEN co.los >= 2.0 THEN TRUE\n",
    "           ELSE FALSE\n",
    "      END as d_los,\n",
    "    CASE WHEN co.hadm_id in (\n",
    "            select distinct hadm_id\n",
    "            from diagnoses_icd as icd\n",
    "            where \n",
    "                icd.icd9_code in('5310', '5312', '5314', '5316', '5320', '5322', '5324', '5326', '5330', '5332', '5334', '5336', '5340', '5342', '5344', '5346', '5780', '5781', '5789', '5693')\n",
    "            ) THEN FALSE\n",
    "           ELSE TRUE\n",
    "      END as d_bleed,\n",
    "    CASE WHEN co.hadm_id in (\n",
    "            select distinct proc.hadm_id\n",
    "            from procedures_icd as proc\n",
    "            where proc.icd9_code = '3995'\n",
    "            ) THEN FALSE\n",
    "            ELSE TRUE\n",
    "       END as d_hd,\n",
    "     CASE WHEN co.hadm_id in (\n",
    "            select distinct proc.hadm_id\n",
    "            from procedures_icd as proc\n",
    "            where proc.icd9_code in ('9901', '9902', '9903', '9904', '9905', '9906', '9907', '9908', '9909')\n",
    "            ) THEN FALSE\n",
    "            ELSE TRUE\n",
    "        END as d_transfusion,\n",
    "     CASE WHEN co.hadm_id in (\n",
    "             select distinct proc.hadm_id\n",
    "            from procedures_icd as proc, d_icd_procedures as dic\n",
    "            where proc.icd9_code = dic.icd9_code\n",
    "            AND dic.long_title LIKE '%urg%' \n",
    "            ) THEN FALSE\n",
    "            ELSE TRUE\n",
    "        END as d_surgery\n",
    "    from co\n",
    ")\n",
    "select cohort.*\n",
    "from cohort\n",
    "WHERE d_age AND d_los AND d_bleed AND d_hd AND d_transfusion AND d_surgery\n"
   ]
  },
  {
   "cell_type": "markdown",
   "metadata": {},
   "source": [
    "# t1(一番最初のヘモグロビンの測定)つきコホートテーブルの作成　(my_cohort_t1)"
   ]
  },
  {
   "cell_type": "code",
   "execution_count": 3,
   "metadata": {},
   "outputs": [],
   "source": [
    "set search_path to mimiciii ;\n",
    "DROP TABLE IF EXISTS  my_cohort_t1 ;\n",
    "CREATE TABLE my_cohort_t1 AS\n",
    "WITH first AS\n",
    "(\n",
    "select MIN(labevents.charttime) as first, labevents.hadm_id\n",
    "from labevents, my_cohort as co\n",
    "where \n",
    "    co.hadm_id = labevents.hadm_id\n",
    "    AND co.intime < labevents.charttime\n",
    "    AND co.outtime > labevents.charttime\n",
    "    AND labevents.itemid = 51222\n",
    "GROUP BY (labevents.hadm_id)\n",
    ")\n",
    "select co.*, first.first, labevents.valuenum as t1value\n",
    "from my_cohort as co, first, labevents\n",
    "where co.hadm_id = first.hadm_id\n",
    "AND first.hadm_id = labevents.hadm_id\n",
    "AND labevents.itemid = 51222\n",
    "AND labevents.charttime = first.first"
   ]
  },
  {
   "cell_type": "markdown",
   "metadata": {},
   "source": [
    "一番最初のヘモグロビンの測定と、24時間後で一番早いヘモグロビンの測定"
   ]
  },
  {
   "cell_type": "code",
   "execution_count": 11,
   "metadata": {},
   "outputs": [],
   "source": [
    "set search_path to mimiciii ;\n",
    "DROP TABLE IF EXISTS  my_cohort_t1_t2 ;\n",
    "CREATE TABLE my_cohort_t1_t2 AS\n",
    "WITH t2 AS\n",
    "(\n",
    "select MIN(labevents.charttime) as t2, labevents.hadm_id\n",
    "from labevents, my_cohort_t1 as co\n",
    "where\n",
    "    co.hadm_id = labevents.hadm_id\n",
    "    AND co.first  + interval '24 hours'< labevents.charttime\n",
    "    AND co.outtime > labevents.charttime\n",
    "    AND labevents.itemid = 51222\n",
    "GROUP BY (labevents.hadm_id)\n",
    ")\n",
    "select co.*,t2.t2,labevents.valuenum as t2value, labevents.valuenum-co.t1value as deltaHemo, EXTRACT (EPOCH from (t2.t2-co.first))/60/60 as T12H, 24*3600/EXTRACT (EPOCH from (t2.t2-co.first)) as timescale\n",
    "from t2, my_cohort_t1 as co, labevents\n",
    "where co.hadm_id = t2.hadm_id\n",
    "AND t2.hadm_id = labevents.hadm_id\n",
    "AND labevents.itemid = 51222\n",
    "AND labevents.charttime = t2.t2"
   ]
  },
  {
   "cell_type": "markdown",
   "metadata": {},
   "source": [
    "T1,T2の間の尿の量を追加, outcome の追加 (outcome: 1が死亡、０が退院）"
   ]
  },
  {
   "cell_type": "code",
   "execution_count": 12,
   "metadata": {},
   "outputs": [],
   "source": [
    "set search_path to mimiciii ;\n",
    "DROP TABLE IF EXISTS  my_cohort_t1_t2_urineoutput ;\n",
    "CREATE TABLE my_cohort_t1_t2_urineoutput AS\n",
    "WITH urine AS\n",
    "(\n",
    "select urineoutput.icustay_id, sum(urineoutput.value) as urinevalue\n",
    "from my_cohort_t1_t2 as co, urineoutput\n",
    "where co.icustay_id = urineoutput.icustay_id\n",
    "AND co.first < urineoutput.charttime\n",
    "AND co.t2 > urineoutput.charttime\n",
    "group by urineoutput.icustay_id\n",
    ")\n",
    "select co.*, urine.urinevalue, admissions.HOSPITAL_EXPIRE_FLAG as outcome\n",
    "from my_cohort_t1_t2 as co, urine, admissions\n",
    "where co.icustay_id = urine.icustay_id\n",
    "AND co.hadm_id = admissions.hadm_id"
   ]
  },
  {
   "cell_type": "code",
   "execution_count": 13,
   "metadata": {},
   "outputs": [],
   "source": [
    "set search_path to mimiciii;\n",
    "DROP TABLE IF EXISTS my_cohort_t1_t2_urineoutput_fluid;\n",
    "CREATE TABLE my_cohort_t1_t2_urineoutput_fluid AS\n",
    "with t1 as\n",
    "(\n",
    "  select\n",
    "    co.icustay_id\n",
    "  , round(case\n",
    "      when mv.amountuom = 'L'\n",
    "        then mv.amount * 1000.0\n",
    "      when mv.amountuom = 'ml'\n",
    "        then mv.amount\n",
    "    else null end) as amount\n",
    "  from my_cohort_t1_t2 as co\n",
    "  inner join inputevents_mv mv\n",
    "  on co.icustay_id = mv.icustay_id\n",
    "  and mv.itemid in\n",
    "  (\n",
    "    -- 225943 Solution\n",
    "    225158, -- NaCl 0.9%\n",
    "    225828, -- LR\n",
    "    225944, -- Sterile Water\n",
    "    225797  -- Free Water\n",
    "  )\n",
    "  where mv.statusdescription != 'Rewritten'\n",
    "  and\n",
    "  -- in MetaVision, these ITEMIDs appear with a null rate IFF endtime=starttime + 1 minute\n",
    "  -- so it is sufficient to:\n",
    "  --    (1) check the rate is > 240 if it exists or\n",
    "  --    (2) ensure the rate is null and amount > 240 ml\n",
    "    (\n",
    "      (mv.rate is not null and mv.rateuom = 'mL/hour' )\n",
    "      OR (mv.rate is not null and mv.rateuom = 'mL/min' )\n",
    "      OR (mv.rate is null and mv.amountuom = 'L' )\n",
    "      OR (mv.rate is null and mv.amountuom = 'ml' )\n",
    "    )\n",
    "    AND mv.starttime > co.first AND mv.starttime < co.t2\n",
    ")\n",
    ", t2 as\n",
    "(\n",
    "  select\n",
    "    co.icustay_id\n",
    "  , -- carevue always has units in millilitres\n",
    "   round(cv.amount) as amount\n",
    "  from my_cohort_t1_t2 as co\n",
    "  inner join inputevents_cv cv\n",
    "  on co.icustay_id = cv.icustay_id\n",
    "  and cv.itemid in\n",
    "  (\n",
    "    30018 --    .9% Normal Saline\n",
    "  , 30021 --    Lactated Ringers\n",
    "  , 30058 --    Free Water Bolus\n",
    "  , 40850 --    ns bolus\n",
    "  , 41491 --    fluid bolus\n",
    "  , 42639 --    bolus\n",
    "  , 30065 --    Sterile Water\n",
    "  , 42187 --    free h20\n",
    "  , 43819 --    1:1 NS Repletion.\n",
    "  , 30063 --    IV Piggyback\n",
    "  , 41430 --    free water boluses\n",
    "  , 40712 --    free H20\n",
    "  , 44160 --    BOLUS\n",
    "  , 42383 --    cc for cc replace\n",
    "  , 30169 --    Sterile H20_GU\n",
    "  , 42297 --    Fluid bolus\n",
    "  , 42453 --    Fluid Bolus\n",
    "  , 40872 --    free water\n",
    "  , 41915 --    FREE WATER\n",
    "  , 41490 --    NS bolus\n",
    "  , 46501 --    H2O Bolus\n",
    "  , 45045 --    WaterBolus\n",
    "  , 41984 --    FREE H20\n",
    "  , 41371 --    ns fluid bolus\n",
    "  , 41582 --    free h20 bolus\n",
    "  , 41322 --    rl bolus\n",
    "  , 40778 --    Free H2O\n",
    "  , 41896 --    ivf boluses\n",
    "  , 41428 --    ns .9% bolus\n",
    "  , 43936 --    FREE WATER BOLUSES\n",
    "  , 44200 --    FLUID BOLUS\n",
    "  , 41619 --    frfee water boluses\n",
    "  , 40424 --    free H2O\n",
    "  , 41457 --    Free H20 intake\n",
    "  , 41581 --    Water bolus\n",
    "  , 42844 --    NS fluid bolus\n",
    "  , 42429 --    Free water\n",
    "  , 41356 --    IV Bolus\n",
    "  , 40532 --    FREE H2O\n",
    "  , 42548 --    NS Bolus\n",
    "  , 44184 --    LR Bolus\n",
    "  , 44521 --    LR bolus\n",
    "  , 44741 --    NS FLUID BOLUS\n",
    "  , 44126 --    fl bolus\n",
    "  , 44110 --    RL BOLUS\n",
    "  , 44633 --    ns boluses\n",
    "  , 44983 --    Bolus NS\n",
    "  , 44815 --    LR BOLUS\n",
    "  , 43986 --    iv bolus\n",
    "  , 45079 --    500 cc ns bolus\n",
    "  , 46781 --    lr bolus\n",
    "  , 45155 --    ns cc/cc replacement\n",
    "  , 43909 --    H20 BOlus\n",
    "  , 41467 --    NS IV bolus\n",
    "  , 44367 --    LR\n",
    "  , 41743 --    water bolus\n",
    "  , 40423 --    Bolus\n",
    "  , 44263 --    fluid bolus ns\n",
    "  , 42749 --    fluid bolus NS\n",
    "  , 45480 --    500cc ns bolus\n",
    "  , 44491 --    .9NS bolus\n",
    "  , 41695 --    NS fluid boluses\n",
    "  , 46169 --    free water bolus.\n",
    "  , 41580 --    free h2o bolus\n",
    "  , 41392 --    ns b\n",
    "  , 45989 --    NS Fluid Bolus\n",
    "  , 45137 --    NS cc/cc\n",
    "  , 45154 --    Free H20 bolus\n",
    "  , 44053 --    normal saline bolus\n",
    "  , 41416 --    free h2o boluses\n",
    "  , 44761 --    Free H20\n",
    "  , 41237 --    ns fluid boluses\n",
    "  , 44426 --    bolus ns\n",
    "  , 43975 --    FREE H20 BOLUSES\n",
    "  , 44894 --    N/s 500 ml bolus\n",
    "  , 41380 --    nsbolus\n",
    "  , 42671 --    free h2o\n",
    "  )\n",
    "  where \n",
    "    -- cv.amount > 248\n",
    "  -- and cv.amount < 2000\n",
    "  -- and\n",
    "    cv.amountuom = 'ml'\n",
    "    AND cv.charttime > co.first AND cv.charttime < co.t2\n",
    "), t3 as\n",
    "(\n",
    "  select icustay_id, sum(amount) as crystalloid_bolus\n",
    "  from t1\n",
    "      -- just because the rate was high enough, does *not* mean the final amount was\n",
    "  -- where amount > 248\n",
    "  group by t1.icustay_id\n",
    "  UNION\n",
    "  select icustay_id, sum(amount) as crystalloid_bolus\n",
    "  from t2\n",
    "  group by t2.icustay_id\n",
    "  order by icustay_id\n",
    ") select icu.*, crystalloid_bolus as fluid\n",
    "  from t3 inner join my_cohort_t1_t2_urineoutput icu\n",
    "  on t3.icustay_id = icu.icustay_id"
   ]
  },
  {
   "cell_type": "code",
   "execution_count": 14,
   "metadata": {},
   "outputs": [
    {
     "data": {
      "text/plain": [
       "9375"
      ]
     },
     "execution_count": 14,
     "metadata": {},
     "output_type": "execute_result"
    }
   ],
   "source": [
    "set search_path to mimiciii;\n",
    "select count(*) from my_cohort_t1_t2_urineoutput_fluid"
   ]
  },
  {
   "cell_type": "code",
   "execution_count": 20,
   "metadata": {},
   "outputs": [
    {
     "data": {
      "application/vnd.jupyter.widget-view+json": {
       "model_id": "4aca3808-8f85-4315-9520-a29d9a045736",
       "version_major": 2,
       "version_minor": 0
      },
      "method": "display_data"
     },
     "metadata": {},
     "output_type": "display_data"
    }
   ],
   "source": [
    "set search_path to mimiciii;\n",
    "select * from my_cohort_t1_t2_urineoutput_fluid limit 5"
   ]
  },
  {
   "cell_type": "code",
   "execution_count": 29,
   "metadata": {},
   "outputs": [
    {
     "data": {
      "application/vnd.jupyter.widget-view+json": {
       "model_id": "413fcd1e-005b-4bef-a0d0-eb27ba49ae0f",
       "version_major": 2,
       "version_minor": 0
      },
      "method": "display_data"
     },
     "metadata": {},
     "output_type": "display_data"
    }
   ],
   "source": [
    "set search_path to mimiciii;\n",
    "select co.gender,co.age, co.deltahemo/co.timescale as delta , co.urinevalue/co.timescale as urine, co.fluid/co.timescale as fluid, co.outcome\n",
    "from my_cohort_t1_t2_urineoutput_fluid as co\n",
    "limit 5"
   ]
  },
  {
   "cell_type": "code",
   "execution_count": null,
   "metadata": {},
   "outputs": [],
   "source": []
  }
 ],
 "metadata": {
  "kernelspec": {
   "display_name": "SQL",
   "language": "SQL",
   "name": "sql"
  },
  "language_info": {
   "codemirror_mode": "sql",
   "file_extension": ".sql",
   "mimetype": "",
   "name": "SQL",
   "nbconverter_exporter": "",
   "version": ""
  },
  "toc": {
   "base_numbering": 1,
   "nav_menu": {},
   "number_sections": false,
   "sideBar": false,
   "skip_h1_title": false,
   "title_cell": "Table of Contents",
   "title_sidebar": "Contents",
   "toc_cell": false,
   "toc_position": {},
   "toc_section_display": false,
   "toc_window_display": false
  }
 },
 "nbformat": 4,
 "nbformat_minor": 2
}
