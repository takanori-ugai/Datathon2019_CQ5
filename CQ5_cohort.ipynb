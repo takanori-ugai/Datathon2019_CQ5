{
 "cells": [
  {
   "cell_type": "code",
   "execution_count": null,
   "metadata": {},
   "outputs": [],
   "source": [
    "%defaultDatasource jdbc:postgresql://"
   ]
  },
  {
   "cell_type": "markdown",
   "metadata": {},
   "source": [
    "# コホートテーブルの作成　(my_cohort)\n",
    "\n",
    "- 17歳より大きい\n",
    "- 48時間以上滞在\n",
    "- 出血がない"
   ]
  },
  {
   "cell_type": "code",
   "execution_count": null,
   "metadata": {},
   "outputs": [],
   "source": [
    "set search_path to mimiciii ;\n",
    "DROP TABLE IF EXISTS  my_cohort ;\n",
    "CREATE TABLE my_cohort AS\n",
    "WITH co AS\n",
    "(\n",
    "    SELECT DISTINCT ON(icustays.subject_id, icustays.hadm_id) icustays.*, patients.gender, EXTRACT('year' from age(icustays.intime,patients.dob)) as age\n",
    "    FROM icustays\n",
    "    INNER JOIN patients \n",
    "      ON icustays.subject_id = patients.subject_id\n",
    "    ORDER BY icustays.subject_id, icustays.hadm_id, icustays.intime, icustays.icustay_id DESC\n",
    "),\n",
    "bleed AS (\n",
    "        select co.hadm_id\n",
    "        from co\n",
    "        where \n",
    "            co.age > 17 AND co.age < 200\n",
    "            AND co.los >= 2.0\n",
    "    EXCEPT\n",
    "        select distinct hadm_id\n",
    "        from diagnoses_icd as icd\n",
    "        where \n",
    "            icd.icd9_code in('5310', '5312', '5314', '5316', '5320', '5322', '5324', '5326', '5330', '5332', '5334', '5336', '5340', '5342', '5344', '5346', '5780', '5781', '5789', '5693')\n",
    ")\n",
    "select co.*\n",
    "from co, bleed\n",
    "where co.hadm_id = bleed.hadm_id\n"
   ]
  },
  {
   "cell_type": "code",
   "execution_count": null,
   "metadata": {},
   "outputs": [],
   "source": [
    "# t1(一番最初のヘモグロビンの測定)つきコホートテーブルの作成　(my_cohort_t1)"
   ]
  },
  {
   "cell_type": "code",
   "execution_count": null,
   "metadata": {},
   "outputs": [],
   "source": [
    "set search_path to mimiciii ;\n",
    "DROP TABLE IF EXISTS  my_cohort_t1 ;\n",
    "CREATE TABLE my_cohort_t1 AS\n",
    "WITH first AS\n",
    "(\n",
    "select MIN(labevents.charttime) as first, labevents.hadm_id\n",
    "from labevents, my_cohort as co\n",
    "where \n",
    "    co.hadm_id = labevents.hadm_id\n",
    "    AND co.intime < labevents.charttime\n",
    "    AND co.outtime > labevents.charttime\n",
    "    AND labevents.itemid = 51222\n",
    "GROUP BY (labevents.hadm_id)\n",
    ")\n",
    "select co.*, first.first, labevents.value\n",
    "from my_cohort as co, first, labevents\n",
    "where co.hadm_id = first.hadm_id\n",
    "AND first.hadm_id = labevents.hadm_id\n",
    "AND labevents.itemid = 51222\n",
    "AND labevents.charttime = first.first"
   ]
  },
  {
   "cell_type": "markdown",
   "metadata": {},
   "source": [
    "一番最初のヘモグロビンの測定と、24時間後で一番早いヘモグロビンの測定"
   ]
  },
  {
   "cell_type": "code",
   "execution_count": null,
   "metadata": {},
   "outputs": [],
   "source": [
    "set search_path to mimiciii ;\n",
    "DROP TABLE IF EXISTS  my_cohort_t1_t2 ;\n",
    "CREATE TABLE my_cohort_t1_t2 AS\n",
    "WITH t2 AS\n",
    "(\n",
    "select MIN(labevents.charttime) as t2, labevents.hadm_id\n",
    "from labevents, my_cohort_t1 as co\n",
    "where\n",
    "    co.hadm_id = labevents.hadm_id\n",
    "    AND co.first  + interval '24 hours'< labevents.charttime\n",
    "    AND co.outtime > labevents.charttime\n",
    "    AND labevents.itemid = 51222\n",
    "GROUP BY (labevents.hadm_id)\n",
    ")\n",
    "select co.*,t2.t2,labevents.value as t2value\n",
    "from t2, my_cohort_t1 as co, labevents\n",
    "where co.hadm_id = t2.hadm_id\n",
    "AND t2.hadm_id = labevents.hadm_id\n",
    "AND labevents.itemid = 51222\n",
    "AND labevents.charttime = t2.t2"
   ]
  },
  {
   "cell_type": "code",
   "execution_count": null,
   "metadata": {},
   "outputs": [],
   "source": [
    "set search_path to mimiciii ;\n",
    "select * from my_cohort_t1_t2 limit 100"
   ]
  }
 ],
 "metadata": {
  "kernelspec": {
   "display_name": "SQL",
   "language": "SQL",
   "name": "sql"
  },
  "language_info": {
   "codemirror_mode": "sql",
   "file_extension": ".sql",
   "mimetype": "",
   "name": "SQL",
   "nbconverter_exporter": "",
   "version": ""
  },
  "toc": {
   "base_numbering": 1,
   "nav_menu": {},
   "number_sections": false,
   "sideBar": false,
   "skip_h1_title": false,
   "title_cell": "Table of Contents",
   "title_sidebar": "Contents",
   "toc_cell": false,
   "toc_position": {},
   "toc_section_display": false,
   "toc_window_display": false
  }
 },
 "nbformat": 4,
 "nbformat_minor": 2
}
