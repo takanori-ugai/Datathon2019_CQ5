{
 "cells": [
  {
   "cell_type": "code",
   "execution_count": 8,
   "metadata": {},
   "outputs": [
    {
     "data": {
      "text/html": [
       "<div>\n",
       "<style scoped>\n",
       "    .dataframe tbody tr th:only-of-type {\n",
       "        vertical-align: middle;\n",
       "    }\n",
       "\n",
       "    .dataframe tbody tr th {\n",
       "        vertical-align: top;\n",
       "    }\n",
       "\n",
       "    .dataframe thead th {\n",
       "        text-align: right;\n",
       "    }\n",
       "</style>\n",
       "<table border=\"1\" class=\"dataframe\">\n",
       "  <thead>\n",
       "    <tr style=\"text-align: right;\">\n",
       "      <th></th>\n",
       "      <th>outcome_flag</th>\n",
       "      <th>gender</th>\n",
       "      <th>age</th>\n",
       "      <th>losstime</th>\n",
       "      <th>t1value</th>\n",
       "      <th>delta</th>\n",
       "      <th>urine</th>\n",
       "      <th>fluid</th>\n",
       "      <th>io</th>\n",
       "    </tr>\n",
       "  </thead>\n",
       "  <tbody>\n",
       "    <tr>\n",
       "      <th>0</th>\n",
       "      <td>False</td>\n",
       "      <td>M</td>\n",
       "      <td>48</td>\n",
       "      <td>21.782222</td>\n",
       "      <td>10.8</td>\n",
       "      <td>-0.273333</td>\n",
       "      <td>2958.833333</td>\n",
       "      <td>13.666667</td>\n",
       "      <td>-2945.166666</td>\n",
       "    </tr>\n",
       "    <tr>\n",
       "      <th>1</th>\n",
       "      <td>True</td>\n",
       "      <td>F</td>\n",
       "      <td>82</td>\n",
       "      <td>17.046667</td>\n",
       "      <td>11.0</td>\n",
       "      <td>-0.251944</td>\n",
       "      <td>1329.006944</td>\n",
       "      <td>2191.916667</td>\n",
       "      <td>862.909723</td>\n",
       "    </tr>\n",
       "    <tr>\n",
       "      <th>2</th>\n",
       "      <td>False</td>\n",
       "      <td>M</td>\n",
       "      <td>64</td>\n",
       "      <td>10.802778</td>\n",
       "      <td>9.6</td>\n",
       "      <td>0.416111</td>\n",
       "      <td>1716.458333</td>\n",
       "      <td>310.002778</td>\n",
       "      <td>-1406.455555</td>\n",
       "    </tr>\n",
       "    <tr>\n",
       "      <th>3</th>\n",
       "      <td>True</td>\n",
       "      <td>M</td>\n",
       "      <td>67</td>\n",
       "      <td>6.061944</td>\n",
       "      <td>12.8</td>\n",
       "      <td>0.926667</td>\n",
       "      <td>5754.600000</td>\n",
       "      <td>4375.411111</td>\n",
       "      <td>-1379.188889</td>\n",
       "    </tr>\n",
       "    <tr>\n",
       "      <th>4</th>\n",
       "      <td>False</td>\n",
       "      <td>M</td>\n",
       "      <td>74</td>\n",
       "      <td>4.359722</td>\n",
       "      <td>10.4</td>\n",
       "      <td>3.541667</td>\n",
       "      <td>2443.750000</td>\n",
       "      <td>467.500000</td>\n",
       "      <td>-1976.250000</td>\n",
       "    </tr>\n",
       "  </tbody>\n",
       "</table>\n",
       "</div>"
      ],
      "text/plain": [
       "   outcome_flag gender  age   losstime  t1value     delta        urine  \\\n",
       "0         False      M   48  21.782222     10.8 -0.273333  2958.833333   \n",
       "1          True      F   82  17.046667     11.0 -0.251944  1329.006944   \n",
       "2         False      M   64  10.802778      9.6  0.416111  1716.458333   \n",
       "3          True      M   67   6.061944     12.8  0.926667  5754.600000   \n",
       "4         False      M   74   4.359722     10.4  3.541667  2443.750000   \n",
       "\n",
       "         fluid           io  \n",
       "0    13.666667 -2945.166666  \n",
       "1  2191.916667   862.909723  \n",
       "2   310.002778 -1406.455555  \n",
       "3  4375.411111 -1379.188889  \n",
       "4   467.500000 -1976.250000  "
      ]
     },
     "execution_count": 8,
     "metadata": {},
     "output_type": "execute_result"
    }
   ],
   "source": [
    "import pandas as pd\n",
    "import numpy as np\n",
    "\n",
    "df_baseline = pd.read_csv('data/Query2.csv')\n",
    "\n",
    "df_baseline['io'] = df_baseline['fluid'] - df_baseline['urine']\n",
    "\n",
    "df_baseline = df_baseline[df_baseline.urine<20000]\n",
    "df_baseline = df_baseline[df_baseline.fluid<30000]\n",
    "\n",
    "df_baseline.head()"
   ]
  },
  {
   "cell_type": "code",
   "execution_count": 12,
   "metadata": {},
   "outputs": [
    {
     "data": {
      "text/plain": [
       "(array([3.800e+01, 2.220e+02, 1.049e+03, 4.446e+03, 2.830e+03, 5.150e+02,\n",
       "        1.540e+02, 4.100e+01, 9.000e+00, 4.000e+00]),\n",
       " array([-19165.8888867 , -14354.28048381,  -9542.67208092,  -4731.06367803,\n",
       "            80.54472486,   4892.15312775,   9703.76153064,  14515.36993353,\n",
       "         19326.97833642,  24138.58673931,  28950.1951422 ]),\n",
       " <a list of 10 Patch objects>)"
      ]
     },
     "execution_count": 12,
     "metadata": {},
     "output_type": "execute_result"
    },
    {
     "data": {
      "image/png": "[encoded data removed]",
      "text/plain": [
       "<Figure size 432x288 with 1 Axes>"
      ]
     },
     "metadata": {
      "needs_background": "light"
     },
     "output_type": "display_data"
    }
   ],
   "source": [
    "%matplotlib inline\n",
    "\n",
    "import numpy as np\n",
    "import matplotlib.pyplot as plt\n",
    "\n",
    "plt.hist(df_baseline['io'])"
   ]
  },
  {
   "cell_type": "code",
   "execution_count": 13,
   "metadata": {},
   "outputs": [
    {
     "name": "stdout",
     "output_type": "stream",
     "text": [
      "[-8.19921587e-05]\n",
      "-0.9729641610511592\n",
      "0.028625883793585216\n"
     ]
    },
    {
     "name": "stderr",
     "output_type": "stream",
     "text": [
      "/anaconda3/lib/python3.7/site-packages/ipykernel_launcher.py:25: SettingWithCopyWarning: \n",
      "A value is trying to be set on a copy of a slice from a DataFrame.\n",
      "Try using .loc[row_indexer,col_indexer] = value instead\n",
      "\n",
      "See the caveats in the documentation: http://pandas.pydata.org/pandas-docs/stable/indexing.html#indexing-view-versus-copy\n"
     ]
    }
   ],
   "source": [
    "df = df_baseline\n",
    "df = df.dropna()\n",
    "\n",
    "from sklearn import linear_model\n",
    "clf = linear_model.LinearRegression()\n",
    " \n",
    "# 説明変数に \"density (濃度)\" を利用\n",
    "X = df[['io']].values\n",
    " \n",
    "# 目的変数に \"alcohol (アルコール度数)\" を利用\n",
    "y = df['delta'].values\n",
    " \n",
    "# 予測モデルを作成\n",
    "clf.fit(X, y)\n",
    " \n",
    "# 回帰係数\n",
    "print(clf.coef_)\n",
    " \n",
    "# 切片 (誤差)\n",
    "print(clf.intercept_)\n",
    " \n",
    "# 決定係数\n",
    "print(clf.score(X, y))\n",
    "\n",
    "df['adjdhb'] = y - clf.predict(X)\n",
    "\n",
    "df.to_csv('data/residual.csv', encoding='utf_8_sig', index=False)"
   ]
  },
  {
   "cell_type": "code",
   "execution_count": 14,
   "metadata": {},
   "outputs": [
    {
     "data": {
      "text/plain": [
       "[<matplotlib.lines.Line2D at 0x11fe74f28>]"
      ]
     },
     "execution_count": 14,
     "metadata": {},
     "output_type": "execute_result"
    },
    {
     "data": {
      "image/png": "[encoded data removed]",
      "text/plain": [
       "<Figure size 432x288 with 1 Axes>"
      ]
     },
     "metadata": {
      "needs_background": "light"
     },
     "output_type": "display_data"
    }
   ],
   "source": [
    "import matplotlib.pyplot as plt\n",
    "plt.scatter(X, y)\n",
    "plt.plot(X, clf.predict(X))"
   ]
  },
  {
   "cell_type": "code",
   "execution_count": null,
   "metadata": {},
   "outputs": [],
   "source": []
  }
 ],
 "metadata": {
  "kernelspec": {
   "display_name": "Python 3",
   "language": "python",
   "name": "python3"
  },
  "language_info": {
   "codemirror_mode": {
    "name": "ipython",
    "version": 3
   },
   "file_extension": ".py",
   "mimetype": "text/x-python",
   "name": "python",
   "nbconvert_exporter": "python",
   "pygments_lexer": "ipython3",
   "version": "3.7.0"
  }
 },
 "nbformat": 4,
 "nbformat_minor": 2
}
